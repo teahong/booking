{
 "cells": [
  {
   "cell_type": "markdown",
   "id": "a8ca5375",
   "metadata": {},
   "source": [
    "**진천캠핑장 예약**"
   ]
  },
  {
   "cell_type": "markdown",
   "id": "0c2eec2f",
   "metadata": {},
   "source": [
    "selemium 불러오기"
   ]
  },
  {
   "cell_type": "code",
   "execution_count": null,
   "id": "91403d7f",
   "metadata": {
    "scrolled": false
   },
   "outputs": [],
   "source": [
    "from selenium import webdriver\n",
    "from selenium.webdriver.chrome.options import Options\n",
    "from selenium.webdriver.chrome.service import Service\n",
    "from selenium.webdriver.common.by import By\n",
    "from webdriver_manager.chrome import ChromeDriverManager\n",
    "import pyautogui\n",
    "import time\n",
    "\n",
    "car='47루7356'\n",
    "name='홍수빈'\n",
    "phone='010-4597-5722'\n",
    "url='https://www.camfit.co.kr/camp/6125a5bfc53877001e03ab03' #캠핏에 등록된 캠핑장 URL\n",
    "wait_time=5"
   ]
  },
  {
   "cell_type": "code",
   "execution_count": null,
   "id": "69811325",
   "metadata": {},
   "outputs": [],
   "source": [
    "options=Options()\n",
    "options.add_experimental_option('detach', True) #브라우저 바로 닫힘 방지\n",
    "options.add_experimental_option('excludeSwitches',['enable-logging']) #불필요한 메시지 제거"
   ]
  },
  {
   "cell_type": "code",
   "execution_count": null,
   "id": "1aa65ece",
   "metadata": {},
   "outputs": [],
   "source": [
    "service=Service(ChromeDriverManager().install())\n",
    "driver=webdriver.Chrome(service=service,options=options)\n",
    "driver.implicitly_wait(wait_time) \n",
    "driver.maximize_window()\n",
    "driver.get(url)\n",
    "time.sleep(0.5)\n",
    "\n",
    "pyautogui.alert('계속하려면 클릭하세요.')"
   ]
  },
  {
   "cell_type": "code",
   "execution_count": null,
   "id": "1ed94701",
   "metadata": {},
   "outputs": [],
   "source": [
    "date=\"/html/body/div[1]/div/section/div/div[10]/div/div[1]/button\"\n",
    "driver.implicitly_wait(wait_time) \n",
    "driver.find_element(By.XPATH,date).click()\n",
    "time.sleep(0.5)"
   ]
  },
  {
   "cell_type": "markdown",
   "id": "2b9933ae",
   "metadata": {},
   "source": [
    "시작 날짜 선택"
   ]
  },
  {
   "cell_type": "code",
   "execution_count": null,
   "id": "a4c95932",
   "metadata": {},
   "outputs": [],
   "source": [
    "dateS=\"/html/body/div[3]/div[3]/div/div[3]/div[1]/div[1]/button[2]\"\n",
    "driver.implicitly_wait(wait_time) \n",
    "driver.find_element(By.XPATH,dateS).click()"
   ]
  },
  {
   "cell_type": "code",
   "execution_count": null,
   "id": "e518478f",
   "metadata": {},
   "outputs": [],
   "source": [
    "dateS=\"/html/body/div[3]/div[3]/div/div[3]/div[1]/div[5]/div[2]/div[2]/div[7]\"\n",
    "driver.implicitly_wait(wait_time) \n",
    "driver.find_element(By.XPATH,dateS).click()\n"
   ]
  },
  {
   "cell_type": "markdown",
   "id": "e8812160",
   "metadata": {},
   "source": [
    "종료 날짜 선택"
   ]
  },
  {
   "cell_type": "code",
   "execution_count": null,
   "id": "db8e58b7",
   "metadata": {},
   "outputs": [],
   "source": [
    "dateE=\"/html/body/div[3]/div[3]/div/div[3]/div[1]/div[5]/div[2]/div[3]/div[2]\"\n",
    "driver.implicitly_wait(wait_time) \n",
    "driver.find_element(By.XPATH,dateE).click()"
   ]
  },
  {
   "cell_type": "code",
   "execution_count": null,
   "id": "fde182cb",
   "metadata": {},
   "outputs": [],
   "source": [
    "choice=\"/html/body/div[3]/div[3]/div/button/span[1]\"\n",
    "driver.implicitly_wait(wait_time) \n",
    "driver.find_element(By.XPATH,choice).click()"
   ]
  },
  {
   "cell_type": "code",
   "execution_count": null,
   "id": "106fb04f",
   "metadata": {},
   "outputs": [],
   "source": [
    "time.sleep(0.5)\n",
    "for i in range(2):\n",
    "    pyautogui.moveTo(1516, 515)\n",
    "    pyautogui.click()\n",
    "for i in range(2):\n",
    "    pyautogui.moveTo(1510, 645)\n",
    "    pyautogui.click()\n",
    "pyautogui.moveTo(1514, 988)\n",
    "pyautogui.click()"
   ]
  },
  {
   "cell_type": "code",
   "execution_count": null,
   "id": "6910c5f7",
   "metadata": {},
   "outputs": [],
   "source": [
    "zone=\"/html/body/div[1]/div/section/div/div[10]/div/div[2]/a[1]/div[1]/div\"\n",
    "driver.implicitly_wait(wait_time) \n",
    "driver.find_element(By.XPATH,zone).click()\n"
   ]
  },
  {
   "cell_type": "code",
   "execution_count": null,
   "id": "a4d55dde",
   "metadata": {},
   "outputs": [],
   "source": [
    "time.sleep(1)\n",
    "pyautogui.scroll(-1600, x=100, y=100)"
   ]
  },
  {
   "cell_type": "code",
   "execution_count": null,
   "id": "b68e292e",
   "metadata": {},
   "outputs": [],
   "source": [
    "site='html/body/div[1]/div/section/div/div[8]/div[2]/div[2]/div[8]/div/div[1]'\n",
    "driver.implicitly_wait(wait_time) \n",
    "driver.find_element(By.XPATH,site).click()\n",
    "time.sleep(1)"
   ]
  },
  {
   "cell_type": "code",
   "execution_count": null,
   "id": "aa2c59ab",
   "metadata": {},
   "outputs": [],
   "source": [
    "site='/html/body/div[1]/div/section/div/div[10]/button/span[1]'\n",
    "driver.find_element(By.XPATH,site).click()"
   ]
  },
  {
   "cell_type": "code",
   "execution_count": null,
   "id": "11495143",
   "metadata": {},
   "outputs": [],
   "source": [
    "click1='/html/body/div[1]/div/section/div/div[11]/div[2]/button/span[1]'\n",
    "driver.implicitly_wait(wait_time) \n",
    "driver.find_element(By.XPATH,click1).click()"
   ]
  },
  {
   "cell_type": "code",
   "execution_count": null,
   "id": "092d0f51",
   "metadata": {},
   "outputs": [],
   "source": [
    "click2='/html/body/div/div/section/div/div/a/button/span[1]'\n",
    "driver.implicitly_wait(wait_time) \n",
    "driver.find_element(By.XPATH,click2).click()"
   ]
  },
  {
   "cell_type": "markdown",
   "id": "72bd14c9",
   "metadata": {},
   "source": [
    "차량정보 입력"
   ]
  },
  {
   "cell_type": "code",
   "execution_count": null,
   "id": "7120a64d",
   "metadata": {},
   "outputs": [],
   "source": [
    "Carinfo='/html/body/div/div/section/div/div/div[3]/div[2]/div[1]/div[3]/div/input'\n",
    "driver.implicitly_wait(wait_time) \n",
    "driver.find_element(By.XPATH,Carinfo).send_keys(car)\n",
    "time.sleep(0.5)"
   ]
  },
  {
   "cell_type": "code",
   "execution_count": null,
   "id": "7dac3abc",
   "metadata": {},
   "outputs": [],
   "source": [
    "click3='/html/body/div/div/section/div/button/span[1]'\n",
    "driver.implicitly_wait(wait_time) \n",
    "driver.find_element(By.XPATH,click3).click()"
   ]
  },
  {
   "cell_type": "markdown",
   "id": "fef2c0a0",
   "metadata": {},
   "source": [
    "개인정보입력"
   ]
  },
  {
   "cell_type": "code",
   "execution_count": null,
   "id": "fa4072b1",
   "metadata": {},
   "outputs": [],
   "source": [
    "Name='/html/body/div/div/section/div/div/div[1]/div[2]/div[1]/input'\n",
    "driver.implicitly_wait(wait_time) \n",
    "driver.find_element(By.XPATH,Name).send_keys(name)"
   ]
  },
  {
   "cell_type": "code",
   "execution_count": null,
   "id": "38caed46",
   "metadata": {},
   "outputs": [],
   "source": [
    "Phone='/html/body/div/div/section/div/div/div[1]/div[2]/div[2]/input'\n",
    "driver.implicitly_wait(wait_time) \n",
    "driver.find_element(By.XPATH,Phone).send_keys(phone)"
   ]
  },
  {
   "cell_type": "markdown",
   "id": "87011c60",
   "metadata": {},
   "source": [
    "약관동의"
   ]
  },
  {
   "cell_type": "code",
   "execution_count": null,
   "id": "02b8e926",
   "metadata": {},
   "outputs": [],
   "source": [
    "click4='/html/body/div/div/section/div/div/div[5]/div[2]/div[1]/div[1]/label/span[1]/span[1]/input'\n",
    "driver.implicitly_wait(wait_time) \n",
    "driver.find_element(By.XPATH,click4).click()"
   ]
  },
  {
   "cell_type": "code",
   "execution_count": null,
   "id": "8958537f",
   "metadata": {},
   "outputs": [],
   "source": [
    "click5='/html/body/div/div/section/div/button/span[1]'\n",
    "driver.implicitly_wait(wait_time) \n",
    "#driver.find_element(By.XPATH,click5).click()"
   ]
  },
  {
   "cell_type": "markdown",
   "id": "b1f87279",
   "metadata": {},
   "source": [
    "좌표확인 코드(보정할때만 사용)"
   ]
  },
  {
   "cell_type": "code",
   "execution_count": null,
   "id": "ab5a9ffa",
   "metadata": {},
   "outputs": [],
   "source": [
    "#time.sleep(3)\n",
    "#print(pyautogui.position())"
   ]
  }
 ],
 "metadata": {
  "kernelspec": {
   "display_name": "Python 3 (ipykernel)",
   "language": "python",
   "name": "python3"
  },
  "language_info": {
   "codemirror_mode": {
    "name": "ipython",
    "version": 3
   },
   "file_extension": ".py",
   "mimetype": "text/x-python",
   "name": "python",
   "nbconvert_exporter": "python",
   "pygments_lexer": "ipython3",
   "version": "3.9.12"
  }
 },
 "nbformat": 4,
 "nbformat_minor": 5
}
